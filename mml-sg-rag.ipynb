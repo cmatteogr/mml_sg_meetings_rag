{
 "cells": [
  {
   "metadata": {},
   "cell_type": "markdown",
   "source": "# MML-SG Meetings Local RAG",
   "id": "c96305fbfddf9a24"
  },
  {
   "metadata": {},
   "cell_type": "markdown",
   "source": [
    "The goal is build a RAG to train an LLM based on the Medellin Machine Learning - Study Group (MML-SG).\n",
    "\n",
    "We can use it for:\n",
    "* Summarize the sessions topics based on meetings recordings.\n",
    "* Define a title for each meeting and a description.\n",
    "* Create an agent able to answer question about the topics and projects built in MML-SG  "
   ],
   "id": "f7b6260674a4487e"
  },
  {
   "cell_type": "code",
   "execution_count": null,
   "id": "initial_id",
   "metadata": {
    "collapsed": true
   },
   "outputs": [],
   "source": [
    ""
   ]
  }
 ],
 "metadata": {
  "kernelspec": {
   "display_name": "Python 3",
   "language": "python",
   "name": "python3"
  },
  "language_info": {
   "codemirror_mode": {
    "name": "ipython",
    "version": 2
   },
   "file_extension": ".py",
   "mimetype": "text/x-python",
   "name": "python",
   "nbconvert_exporter": "python",
   "pygments_lexer": "ipython2",
   "version": "2.7.6"
  }
 },
 "nbformat": 4,
 "nbformat_minor": 5
}
